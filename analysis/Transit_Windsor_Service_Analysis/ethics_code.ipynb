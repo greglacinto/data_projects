{
 "cells": [
  {
   "cell_type": "markdown",
   "metadata": {},
   "source": [
    "#### TransitWindsor is the most popular bus service in Windsor, Ontario, Canada. It is a public transit system that provides bus services to the city's residents and visitors. The service is operated by the Windsor Transit Commission, which is a municipal agency responsible for the planning, operation, and maintenance of the transit system. \n",
    "\n",
    "#### A survey was conducted to gather feedback from the residents of Windsor (mainly students) about their transit experiences. The survey was distributed to 50 respondents, and the data was collected and cleaned to prepare for analysis."
   ]
  },
  {
   "cell_type": "code",
   "execution_count": 1,
   "metadata": {},
   "outputs": [],
   "source": [
    "import pandas as pd\n",
    "import matplotlib.pyplot as plt\n",
    "import numpy as np\n",
    "import seaborn as sns"
   ]
  },
  {
   "cell_type": "markdown",
   "metadata": {},
   "source": [
    "#### Data Ingestion"
   ]
  },
  {
   "cell_type": "code",
   "execution_count": 2,
   "metadata": {},
   "outputs": [
    {
     "data": {
      "text/html": [
       "<div>\n",
       "<style scoped>\n",
       "    .dataframe tbody tr th:only-of-type {\n",
       "        vertical-align: middle;\n",
       "    }\n",
       "\n",
       "    .dataframe tbody tr th {\n",
       "        vertical-align: top;\n",
       "    }\n",
       "\n",
       "    .dataframe thead th {\n",
       "        text-align: right;\n",
       "    }\n",
       "</style>\n",
       "<table border=\"1\" class=\"dataframe\">\n",
       "  <thead>\n",
       "    <tr style=\"text-align: right;\">\n",
       "      <th></th>\n",
       "      <th>0</th>\n",
       "      <th>1</th>\n",
       "      <th>2</th>\n",
       "      <th>3</th>\n",
       "    </tr>\n",
       "  </thead>\n",
       "  <tbody>\n",
       "    <tr>\n",
       "      <th>Unnamed: 0</th>\n",
       "      <td>0</td>\n",
       "      <td>1</td>\n",
       "      <td>2</td>\n",
       "      <td>3</td>\n",
       "    </tr>\n",
       "    <tr>\n",
       "      <th>ID</th>\n",
       "      <td>1</td>\n",
       "      <td>2</td>\n",
       "      <td>4</td>\n",
       "      <td>5</td>\n",
       "    </tr>\n",
       "    <tr>\n",
       "      <th>Start time</th>\n",
       "      <td>2024-11-17 14:39</td>\n",
       "      <td>2024-11-17 16:11</td>\n",
       "      <td>2024-11-19 23:03</td>\n",
       "      <td>2024-11-21 12:59</td>\n",
       "    </tr>\n",
       "    <tr>\n",
       "      <th>Completion time</th>\n",
       "      <td>2024-11-17 14:41</td>\n",
       "      <td>2024-11-17 16:15</td>\n",
       "      <td>2024-11-19 23:07</td>\n",
       "      <td>2024-11-21 13:25</td>\n",
       "    </tr>\n",
       "    <tr>\n",
       "      <th>Agree to consent info</th>\n",
       "      <td>NaN</td>\n",
       "      <td>NaN</td>\n",
       "      <td>NaN</td>\n",
       "      <td>NaN</td>\n",
       "    </tr>\n",
       "    <tr>\n",
       "      <th>usage frequency</th>\n",
       "      <td>Daily</td>\n",
       "      <td>Daily</td>\n",
       "      <td>Daily</td>\n",
       "      <td>Daily</td>\n",
       "    </tr>\n",
       "    <tr>\n",
       "      <th>frequent bus taken</th>\n",
       "      <td>1C</td>\n",
       "      <td>Oulette</td>\n",
       "      <td>115</td>\n",
       "      <td>NaN</td>\n",
       "    </tr>\n",
       "    <tr>\n",
       "      <th>bus arrival wait time</th>\n",
       "      <td>5 - 10 minutes</td>\n",
       "      <td>5 - 10 minutes</td>\n",
       "      <td>Less than 5 minutes</td>\n",
       "      <td>10 - 20 minutes</td>\n",
       "    </tr>\n",
       "    <tr>\n",
       "      <th>MissedBusInstances</th>\n",
       "      <td>Yes</td>\n",
       "      <td>Yes</td>\n",
       "      <td>Yes</td>\n",
       "      <td>Yes</td>\n",
       "    </tr>\n",
       "    <tr>\n",
       "      <th>Explanation on MissedBusInstances</th>\n",
       "      <td>Bus was late</td>\n",
       "      <td>NaN</td>\n",
       "      <td>Disappointing but I'm lucky to have another bu...</td>\n",
       "      <td>I waited for one hour for the next bus</td>\n",
       "    </tr>\n",
       "    <tr>\n",
       "      <th>BusTimelinessPerception</th>\n",
       "      <td>Often</td>\n",
       "      <td>Sometimes</td>\n",
       "      <td>Often</td>\n",
       "      <td>Sometimes</td>\n",
       "    </tr>\n",
       "    <tr>\n",
       "      <th>app/website helpfulness</th>\n",
       "      <td>Yes</td>\n",
       "      <td>Yes</td>\n",
       "      <td>Yes</td>\n",
       "      <td>Yes</td>\n",
       "    </tr>\n",
       "    <tr>\n",
       "      <th>cleanliness_maintenance_of_buses</th>\n",
       "      <td>Good</td>\n",
       "      <td>Good</td>\n",
       "      <td>Average</td>\n",
       "      <td>Excellent</td>\n",
       "    </tr>\n",
       "    <tr>\n",
       "      <th>safety perception</th>\n",
       "      <td>Very safe</td>\n",
       "      <td>Somewhat safe</td>\n",
       "      <td>Somewhat safe</td>\n",
       "      <td>Very safe</td>\n",
       "    </tr>\n",
       "    <tr>\n",
       "      <th>value for money</th>\n",
       "      <td>Yes</td>\n",
       "      <td>Yes</td>\n",
       "      <td>Yes</td>\n",
       "      <td>Yes</td>\n",
       "    </tr>\n",
       "    <tr>\n",
       "      <th>additional feature/service</th>\n",
       "      <td>More frequent buses in the weekends</td>\n",
       "      <td>Improved reliability</td>\n",
       "      <td>Extended hours of operation</td>\n",
       "      <td>More frequent buses</td>\n",
       "    </tr>\n",
       "    <tr>\n",
       "      <th>bus_stops_proximity</th>\n",
       "      <td>Yes</td>\n",
       "      <td>Yes</td>\n",
       "      <td>Yes</td>\n",
       "      <td>Yes</td>\n",
       "    </tr>\n",
       "    <tr>\n",
       "      <th>waiting activity</th>\n",
       "      <td>Using a phone or device</td>\n",
       "      <td>Waiting passively</td>\n",
       "      <td>Using a phone or device</td>\n",
       "      <td>Using a phone or device</td>\n",
       "    </tr>\n",
       "    <tr>\n",
       "      <th>car_vs_bus</th>\n",
       "      <td>No, I would prefer to drive a car</td>\n",
       "      <td>No, I would prefer to drive a car</td>\n",
       "      <td>No, I would prefer to drive a car</td>\n",
       "      <td>Yes, I would prefer to continue using the bus</td>\n",
       "    </tr>\n",
       "    <tr>\n",
       "      <th>overall experience</th>\n",
       "      <td>Good</td>\n",
       "      <td>Good</td>\n",
       "      <td>Good</td>\n",
       "      <td>Good</td>\n",
       "    </tr>\n",
       "    <tr>\n",
       "      <th>survey duration (minutes)</th>\n",
       "      <td>1</td>\n",
       "      <td>3</td>\n",
       "      <td>4</td>\n",
       "      <td>25</td>\n",
       "    </tr>\n",
       "  </tbody>\n",
       "</table>\n",
       "</div>"
      ],
      "text/plain": [
       "                                                                     0  \\\n",
       "Unnamed: 0                                                           0   \n",
       "ID                                                                   1   \n",
       "Start time                                            2024-11-17 14:39   \n",
       "Completion time                                       2024-11-17 14:41   \n",
       "Agree to consent info                                              NaN   \n",
       "usage frequency                                                  Daily   \n",
       "frequent bus taken                                                  1C   \n",
       "bus arrival wait time                                   5 - 10 minutes   \n",
       "MissedBusInstances                                                 Yes   \n",
       "Explanation on MissedBusInstances                         Bus was late   \n",
       "BusTimelinessPerception                                          Often   \n",
       "app/website helpfulness                                            Yes   \n",
       "cleanliness_maintenance_of_buses                                  Good   \n",
       "safety perception                                            Very safe   \n",
       "value for money                                                    Yes   \n",
       "additional feature/service         More frequent buses in the weekends   \n",
       "bus_stops_proximity                                                Yes   \n",
       "waiting activity                               Using a phone or device   \n",
       "car_vs_bus                           No, I would prefer to drive a car   \n",
       "overall experience                                                Good   \n",
       "survey duration (minutes)                                            1   \n",
       "\n",
       "                                                                   1  \\\n",
       "Unnamed: 0                                                         1   \n",
       "ID                                                                 2   \n",
       "Start time                                          2024-11-17 16:11   \n",
       "Completion time                                     2024-11-17 16:15   \n",
       "Agree to consent info                                            NaN   \n",
       "usage frequency                                                Daily   \n",
       "frequent bus taken                                           Oulette   \n",
       "bus arrival wait time                                 5 - 10 minutes   \n",
       "MissedBusInstances                                               Yes   \n",
       "Explanation on MissedBusInstances                                NaN   \n",
       "BusTimelinessPerception                                    Sometimes   \n",
       "app/website helpfulness                                          Yes   \n",
       "cleanliness_maintenance_of_buses                                Good   \n",
       "safety perception                                      Somewhat safe   \n",
       "value for money                                                  Yes   \n",
       "additional feature/service                      Improved reliability   \n",
       "bus_stops_proximity                                              Yes   \n",
       "waiting activity                                   Waiting passively   \n",
       "car_vs_bus                         No, I would prefer to drive a car   \n",
       "overall experience                                              Good   \n",
       "survey duration (minutes)                                          3   \n",
       "\n",
       "                                                                                   2  \\\n",
       "Unnamed: 0                                                                         2   \n",
       "ID                                                                                 4   \n",
       "Start time                                                          2024-11-19 23:03   \n",
       "Completion time                                                     2024-11-19 23:07   \n",
       "Agree to consent info                                                            NaN   \n",
       "usage frequency                                                                Daily   \n",
       "frequent bus taken                                                               115   \n",
       "bus arrival wait time                                            Less than 5 minutes   \n",
       "MissedBusInstances                                                               Yes   \n",
       "Explanation on MissedBusInstances  Disappointing but I'm lucky to have another bu...   \n",
       "BusTimelinessPerception                                                        Often   \n",
       "app/website helpfulness                                                          Yes   \n",
       "cleanliness_maintenance_of_buses                                             Average   \n",
       "safety perception                                                      Somewhat safe   \n",
       "value for money                                                                  Yes   \n",
       "additional feature/service                               Extended hours of operation   \n",
       "bus_stops_proximity                                                              Yes   \n",
       "waiting activity                                             Using a phone or device   \n",
       "car_vs_bus                                         No, I would prefer to drive a car   \n",
       "overall experience                                                              Good   \n",
       "survey duration (minutes)                                                          4   \n",
       "\n",
       "                                                                               3  \n",
       "Unnamed: 0                                                                     3  \n",
       "ID                                                                             5  \n",
       "Start time                                                      2024-11-21 12:59  \n",
       "Completion time                                                 2024-11-21 13:25  \n",
       "Agree to consent info                                                        NaN  \n",
       "usage frequency                                                            Daily  \n",
       "frequent bus taken                                                           NaN  \n",
       "bus arrival wait time                                            10 - 20 minutes  \n",
       "MissedBusInstances                                                           Yes  \n",
       "Explanation on MissedBusInstances         I waited for one hour for the next bus  \n",
       "BusTimelinessPerception                                                Sometimes  \n",
       "app/website helpfulness                                                      Yes  \n",
       "cleanliness_maintenance_of_buses                                       Excellent  \n",
       "safety perception                                                      Very safe  \n",
       "value for money                                                              Yes  \n",
       "additional feature/service                                   More frequent buses  \n",
       "bus_stops_proximity                                                          Yes  \n",
       "waiting activity                                         Using a phone or device  \n",
       "car_vs_bus                         Yes, I would prefer to continue using the bus  \n",
       "overall experience                                                          Good  \n",
       "survey duration (minutes)                                                     25  "
      ]
     },
     "execution_count": 2,
     "metadata": {},
     "output_type": "execute_result"
    }
   ],
   "source": [
    "df = pd.read_csv(\"cleaned_survey_50_responses.csv\", encoding='ISO-8859-1')\n",
    "df.head(4).T"
   ]
  },
  {
   "cell_type": "markdown",
   "metadata": {},
   "source": [
    "#### Data Cleaning"
   ]
  },
  {
   "cell_type": "code",
   "execution_count": 3,
   "metadata": {},
   "outputs": [],
   "source": [
    "df = df.drop('Unnamed: 0', axis=1)"
   ]
  },
  {
   "cell_type": "code",
   "execution_count": 4,
   "metadata": {},
   "outputs": [
    {
     "name": "stdout",
     "output_type": "stream",
     "text": [
      "<class 'pandas.core.frame.DataFrame'>\n",
      "RangeIndex: 53 entries, 0 to 52\n",
      "Data columns (total 20 columns):\n",
      " #   Column                             Non-Null Count  Dtype \n",
      "---  ------                             --------------  ----- \n",
      " 0   ID                                 53 non-null     int64 \n",
      " 1   Start time                         53 non-null     object\n",
      " 2   Completion time                    53 non-null     object\n",
      " 3   Agree to consent info              47 non-null     object\n",
      " 4   usage frequency                    49 non-null     object\n",
      " 5   frequent bus taken                 47 non-null     object\n",
      " 6   bus arrival wait time              49 non-null     object\n",
      " 7   MissedBusInstances                 49 non-null     object\n",
      " 8   Explanation on MissedBusInstances  22 non-null     object\n",
      " 9   BusTimelinessPerception            49 non-null     object\n",
      " 10  app/website helpfulness            49 non-null     object\n",
      " 11  cleanliness_maintenance_of_buses   49 non-null     object\n",
      " 12  safety perception                  49 non-null     object\n",
      " 13  value for money                    49 non-null     object\n",
      " 14  additional feature/service         49 non-null     object\n",
      " 15  bus_stops_proximity                49 non-null     object\n",
      " 16  waiting activity                   49 non-null     object\n",
      " 17  car_vs_bus                         49 non-null     object\n",
      " 18  overall experience                 49 non-null     object\n",
      " 19  survey duration (minutes)          53 non-null     int64 \n",
      "dtypes: int64(2), object(18)\n",
      "memory usage: 8.4+ KB\n"
     ]
    }
   ],
   "source": [
    "df.info()"
   ]
  },
  {
   "cell_type": "code",
   "execution_count": 5,
   "metadata": {},
   "outputs": [],
   "source": [
    "# Convert start and completion times to datetime\n",
    "df['Start time'] = pd.to_datetime(df['Start time'])\n",
    "df['Completion time'] = pd.to_datetime(df['Completion time'])"
   ]
  },
  {
   "cell_type": "code",
   "execution_count": 6,
   "metadata": {},
   "outputs": [
    {
     "data": {
      "text/plain": [
       "ID                                    0\n",
       "Start time                            0\n",
       "Completion time                       0\n",
       "Agree to consent info                 6\n",
       "usage frequency                       4\n",
       "frequent bus taken                    6\n",
       "bus arrival wait time                 4\n",
       "MissedBusInstances                    4\n",
       "Explanation on MissedBusInstances    31\n",
       "BusTimelinessPerception               4\n",
       "app/website helpfulness               4\n",
       "cleanliness_maintenance_of_buses      4\n",
       "safety perception                     4\n",
       "value for money                       4\n",
       "additional feature/service            4\n",
       "bus_stops_proximity                   4\n",
       "waiting activity                      4\n",
       "car_vs_bus                            4\n",
       "overall experience                    4\n",
       "survey duration (minutes)             0\n",
       "dtype: int64"
      ]
     },
     "execution_count": 6,
     "metadata": {},
     "output_type": "execute_result"
    }
   ],
   "source": [
    "df.isnull().sum()"
   ]
  },
  {
   "cell_type": "markdown",
   "metadata": {},
   "source": [
    "Explanation on MissedBusInstances has the highest number of missing values. We can drop this column as it is not relevant to the analysis. \n",
    "\n",
    "The other columns have very few or no missing values. We can keep them as they are."
   ]
  },
  {
   "cell_type": "code",
   "execution_count": 7,
   "metadata": {},
   "outputs": [
    {
     "data": {
      "text/plain": [
       "0          Good\n",
       "1          Good\n",
       "2       Average\n",
       "3     Excellent\n",
       "4          Good\n",
       "5       Average\n",
       "6           NaN\n",
       "7     Excellent\n",
       "8     Excellent\n",
       "9          Good\n",
       "10         Good\n",
       "11         Good\n",
       "12         Good\n",
       "13      Average\n",
       "14    Excellent\n",
       "15         Good\n",
       "16         Good\n",
       "17         Good\n",
       "18         Good\n",
       "19      Average\n",
       "20         Good\n",
       "21         Good\n",
       "22         Good\n",
       "23         Good\n",
       "24         Poor\n",
       "25    Excellent\n",
       "26         Good\n",
       "27         Good\n",
       "28      Average\n",
       "29      Average\n",
       "30         Good\n",
       "31    Excellent\n",
       "32         Good\n",
       "33      Average\n",
       "34         Good\n",
       "35    Excellent\n",
       "36         Good\n",
       "37         Good\n",
       "38          NaN\n",
       "39      Average\n",
       "40      Average\n",
       "41          NaN\n",
       "42         Good\n",
       "43         Good\n",
       "44         Good\n",
       "45          NaN\n",
       "46      Average\n",
       "47      Average\n",
       "48         Good\n",
       "49         Good\n",
       "50         Good\n",
       "51         Good\n",
       "52         Good\n",
       "Name: cleanliness_maintenance_of_buses, dtype: object"
      ]
     },
     "execution_count": 7,
     "metadata": {},
     "output_type": "execute_result"
    }
   ],
   "source": [
    "df['cleanliness_maintenance_of_buses']"
   ]
  },
  {
   "cell_type": "code",
   "execution_count": 8,
   "metadata": {},
   "outputs": [],
   "source": [
    "df['survey duration (minutes)'] = (df['Completion time'] - df['Start time']).dt.seconds//60"
   ]
  },
  {
   "cell_type": "code",
   "execution_count": 9,
   "metadata": {},
   "outputs": [],
   "source": [
    "df['ID'] = df['ID'].astype('str')"
   ]
  },
  {
   "cell_type": "code",
   "execution_count": 10,
   "metadata": {},
   "outputs": [
    {
     "data": {
      "text/plain": [
       "array(['1C', 'Oulette', '115', nan, '2', '6, 1C, 1A, 4', '8', 'Parent',\n",
       "       'Bus number 6', '1C and 1A', 'Bus 4', 'TRANSWAY 1C', '2, 8, 1C',\n",
       "       'Three', '3', '14', 'Bus 115', '4', 'Bus 115, Bus 3', '1c', '8,2',\n",
       "       '2,115', '1c, 1a,4, 6', '6', '1c and8 wakerVille', '1 C'],\n",
       "      dtype=object)"
      ]
     },
     "execution_count": 10,
     "metadata": {},
     "output_type": "execute_result"
    }
   ],
   "source": [
    "df['frequent bus taken'].unique()"
   ]
  },
  {
   "cell_type": "markdown",
   "metadata": {},
   "source": [
    "### 'Frequent bus taken' column has numerous inputs - created function to only include the bus number\n"
   ]
  },
  {
   "cell_type": "code",
   "execution_count": 11,
   "metadata": {},
   "outputs": [],
   "source": [
    "import re\n",
    "\n",
    "def frequent_buses():\n",
    "    buses = list(df['frequent bus taken'])\n",
    "\n",
    "    # to seperate each word\n",
    "    lst = []\n",
    "    for i in buses:\n",
    "        if type(i) == str:  \n",
    "            sep = re.split(r'[,\\s]',i)\n",
    "            lst.extend(sep)\n",
    "\n",
    "    # to remove unwanted words\n",
    "    new_list = []\n",
    "    for item in lst:\n",
    "        if item not in ['and','','Bus','number']:\n",
    "            new_list.append(item)\n",
    "    \n",
    "    return new_list"
   ]
  },
  {
   "cell_type": "code",
   "execution_count": 12,
   "metadata": {},
   "outputs": [],
   "source": [
    "df.loc[df['frequent bus taken'] == 'Three','frequent bus taken'] = '3'\n",
    "df.loc[df['frequent bus taken'] == '1c and8 wakerVille','frequent bus taken'] = '1C and 8 wakerVille'\n",
    "df.loc[df['frequent bus taken'] == '1 C','frequent bus taken'] = '1C'\n",
    "df.loc[df['frequent bus taken'] == '1a','frequent bus taken'] = '1A'"
   ]
  },
  {
   "cell_type": "code",
   "execution_count": 13,
   "metadata": {},
   "outputs": [],
   "source": [
    "# change to series for analysis\n",
    "all_buses = frequent_buses()\n",
    "all_buses = pd.Series(data=all_buses)"
   ]
  },
  {
   "cell_type": "code",
   "execution_count": 14,
   "metadata": {},
   "outputs": [
    {
     "data": {
      "text/plain": [
       "115           14\n",
       "1C            12\n",
       "4              8\n",
       "2              5\n",
       "6              4\n",
       "3              4\n",
       "8              4\n",
       "1c             3\n",
       "1A             2\n",
       "Oulette        1\n",
       "Parent         1\n",
       "TRANSWAY       1\n",
       "14             1\n",
       "1a             1\n",
       "wakerVille     1\n",
       "Name: count, dtype: int64"
      ]
     },
     "execution_count": 14,
     "metadata": {},
     "output_type": "execute_result"
    }
   ],
   "source": [
    "all_buses.value_counts()"
   ]
  },
  {
   "cell_type": "code",
   "execution_count": 15,
   "metadata": {},
   "outputs": [],
   "source": [
    "all_buses = all_buses.replace('1a', '1A')\n",
    "all_buses = all_buses.replace('1c', '1C')"
   ]
  },
  {
   "cell_type": "code",
   "execution_count": 16,
   "metadata": {},
   "outputs": [
    {
     "data": {
      "text/plain": [
       "1C            15\n",
       "115           14\n",
       "4              8\n",
       "2              5\n",
       "6              4\n",
       "3              4\n",
       "8              4\n",
       "1A             3\n",
       "Oulette        1\n",
       "Parent         1\n",
       "TRANSWAY       1\n",
       "14             1\n",
       "wakerVille     1\n",
       "Name: count, dtype: int64"
      ]
     },
     "execution_count": 16,
     "metadata": {},
     "output_type": "execute_result"
    }
   ],
   "source": [
    "all_buses_sorted = all_buses.value_counts()\n",
    "all_buses_sorted"
   ]
  },
  {
   "cell_type": "markdown",
   "metadata": {},
   "source": [
    "#### Data Visualization and Analysis"
   ]
  },
  {
   "cell_type": "code",
   "execution_count": 17,
   "metadata": {},
   "outputs": [
    {
     "data": {
      "text/plain": [
       "Index(['ID', 'Start time', 'Completion time', 'Agree to consent info',\n",
       "       'usage frequency', 'frequent bus taken', 'bus arrival wait time',\n",
       "       'MissedBusInstances', 'Explanation on MissedBusInstances',\n",
       "       'BusTimelinessPerception', 'app/website helpfulness',\n",
       "       'cleanliness_maintenance_of_buses', 'safety perception',\n",
       "       'value for money', 'additional feature/service', 'bus_stops_proximity',\n",
       "       'waiting activity', 'car_vs_bus', 'overall experience',\n",
       "       'survey duration (minutes)'],\n",
       "      dtype='object')"
      ]
     },
     "execution_count": 17,
     "metadata": {},
     "output_type": "execute_result"
    }
   ],
   "source": [
    "df.columns"
   ]
  },
  {
   "cell_type": "code",
   "execution_count": 18,
   "metadata": {},
   "outputs": [
    {
     "data": {
      "image/png": "[encoded data removed]",
      "text/plain": [
       "<Figure size 640x480 with 1 Axes>"
      ]
     },
     "metadata": {},
     "output_type": "display_data"
    }
   ],
   "source": [
    "# Distribution of Bus Usage\n",
    "df['usage frequency'].value_counts().plot(kind='bar',edgecolor='black')\n",
    "plt.xticks(rotation=0)\n",
    "plt.title('Frequency of Bus Usage')\n",
    "plt.xlabel('')\n",
    "plt.show()"
   ]
  },
  {
   "cell_type": "markdown",
   "metadata": {},
   "source": [
    "Most of the respondents use the bus daily."
   ]
  },
  {
   "cell_type": "code",
   "execution_count": 19,
   "metadata": {},
   "outputs": [
    {
     "data": {
      "image/png": "[encoded data removed]",
      "text/plain": [
       "<Figure size 640x480 with 1 Axes>"
      ]
     },
     "metadata": {},
     "output_type": "display_data"
    }
   ],
   "source": [
    "# typical wait times\n",
    "df['bus arrival wait time'].value_counts().plot(kind='bar',edgecolor='black')\n",
    "plt.xticks(rotation=0)\n",
    "plt.title('Typical Wait Time')\n",
    "plt.xlabel('')\n",
    "plt.xticks(rotation=45)\n",
    "plt.show()\n"
   ]
  },
  {
   "cell_type": "markdown",
   "metadata": {},
   "source": [
    "While most of the respondents wait for the bus for less than 10 minutes, there are a number of respondents who wait for more than 10 minutes."
   ]
  },
  {
   "cell_type": "code",
   "execution_count": 20,
   "metadata": {},
   "outputs": [
    {
     "data": {
      "text/plain": [
       "MissedBusInstances\n",
       "Yes    62.264151\n",
       "No     30.188679\n",
       "Name: count, dtype: float64"
      ]
     },
     "execution_count": 20,
     "metadata": {},
     "output_type": "execute_result"
    }
   ],
   "source": [
    "# percentage of respondents who experienced missed buses\n",
    "value_counts = df['MissedBusInstances'].value_counts()\n",
    "percentage = value_counts / len(df) * 100\n",
    "percentage\n"
   ]
  },
  {
   "cell_type": "markdown",
   "metadata": {},
   "source": [
    "more than 50% of the respondents experienced missed buses.\n"
   ]
  },
  {
   "cell_type": "code",
   "execution_count": 21,
   "metadata": {},
   "outputs": [
    {
     "data": {
      "image/png": "[encoded data removed]",
      "text/plain": [
       "<Figure size 1000x600 with 1 Axes>"
      ]
     },
     "metadata": {},
     "output_type": "display_data"
    }
   ],
   "source": [
    "plt.figure(figsize=(10, 6))\n",
    "all_buses_sorted.plot(kind='bar')\n",
    "plt.title('Distribution of Bus Taken')\n",
    "plt.xlabel('Bus Number')\n",
    "plt.ylabel('Count')\n",
    "plt.xticks(rotation=90)\n",
    "plt.show()"
   ]
  },
  {
   "cell_type": "markdown",
   "metadata": {},
   "source": [
    "Bus 1C apears to be the most popular bus route in Windsor, Ontario, Canada."
   ]
  },
  {
   "cell_type": "code",
   "execution_count": 22,
   "metadata": {},
   "outputs": [
    {
     "data": {
      "image/png": "[encoded data removed]",
      "text/plain": [
       "<Figure size 1000x600 with 1 Axes>"
      ]
     },
     "metadata": {},
     "output_type": "display_data"
    }
   ],
   "source": [
    "plt.figure(figsize=(10, 6))\n",
    "sns.histplot(data=df, x='survey duration (minutes)', bins=20)\n",
    "plt.title('Distribution of Survey Duration')\n",
    "plt.xlabel('Duration (minutes)')\n",
    "plt.ylabel('Count')\n",
    "plt.show()"
   ]
  },
  {
   "cell_type": "markdown",
   "metadata": {},
   "source": [
    "Majority of the respondents took the survey within 10 minutes."
   ]
  },
  {
   "cell_type": "code",
   "execution_count": 23,
   "metadata": {},
   "outputs": [
    {
     "data": {
      "image/png": "[encoded data removed]",
      "text/plain": [
       "<Figure size 640x480 with 1 Axes>"
      ]
     },
     "metadata": {},
     "output_type": "display_data"
    }
   ],
   "source": [
    "df['Agree to consent info'].value_counts().plot(kind='pie',autopct='%1.1f%%')\n",
    "plt.title('Agree with the Consent Instructions')\n",
    "plt.ylabel('')\n",
    "plt.show()"
   ]
  },
  {
   "cell_type": "markdown",
   "metadata": {},
   "source": [
    "Most of the respondents agreed to the consent instructions. This is important to note as we are also interested in how respondents respond to the consent instructions."
   ]
  },
  {
   "cell_type": "code",
   "execution_count": 24,
   "metadata": {},
   "outputs": [
    {
     "data": {
      "text/plain": [
       "BusTimelinessPerception\n",
       "Often        26\n",
       "Sometimes    13\n",
       "Always        6\n",
       "Rarely        4\n",
       "Name: count, dtype: int64"
      ]
     },
     "execution_count": 24,
     "metadata": {},
     "output_type": "execute_result"
    }
   ],
   "source": [
    "df['BusTimelinessPerception'].value_counts()"
   ]
  },
  {
   "cell_type": "code",
   "execution_count": 25,
   "metadata": {},
   "outputs": [
    {
     "data": {
      "image/png": "[encoded data removed]",
      "text/plain": [
       "<Figure size 640x480 with 1 Axes>"
      ]
     },
     "metadata": {},
     "output_type": "display_data"
    }
   ],
   "source": [
    "df['BusTimelinessPerception'].value_counts().plot(kind='bar',edgecolor='black')\n",
    "plt.xticks(rotation=0)\n",
    "plt.title('Perceptions of Transit Windsor Bus Timeliness')\n",
    "plt.xlabel('')\n",
    "plt.show()"
   ]
  },
  {
   "cell_type": "markdown",
   "metadata": {},
   "source": [
    "Perception of Transit Windsor Bus Timeliness is a bit mixed. While some respondents think the buses run on time, others think they don't.\n"
   ]
  },
  {
   "cell_type": "code",
   "execution_count": 26,
   "metadata": {},
   "outputs": [
    {
     "data": {
      "text/html": [
       "<div>\n",
       "<style scoped>\n",
       "    .dataframe tbody tr th:only-of-type {\n",
       "        vertical-align: middle;\n",
       "    }\n",
       "\n",
       "    .dataframe tbody tr th {\n",
       "        vertical-align: top;\n",
       "    }\n",
       "\n",
       "    .dataframe thead th {\n",
       "        text-align: right;\n",
       "    }\n",
       "</style>\n",
       "<table border=\"1\" class=\"dataframe\">\n",
       "  <thead>\n",
       "    <tr style=\"text-align: right;\">\n",
       "      <th>MissedBusInstances</th>\n",
       "      <th>No</th>\n",
       "      <th>Yes</th>\n",
       "    </tr>\n",
       "    <tr>\n",
       "      <th>overall experience</th>\n",
       "      <th></th>\n",
       "      <th></th>\n",
       "    </tr>\n",
       "  </thead>\n",
       "  <tbody>\n",
       "    <tr>\n",
       "      <th>Average</th>\n",
       "      <td>4</td>\n",
       "      <td>5</td>\n",
       "    </tr>\n",
       "    <tr>\n",
       "      <th>Excellent</th>\n",
       "      <td>3</td>\n",
       "      <td>5</td>\n",
       "    </tr>\n",
       "    <tr>\n",
       "      <th>Good</th>\n",
       "      <td>9</td>\n",
       "      <td>21</td>\n",
       "    </tr>\n",
       "    <tr>\n",
       "      <th>Poor</th>\n",
       "      <td>0</td>\n",
       "      <td>2</td>\n",
       "    </tr>\n",
       "  </tbody>\n",
       "</table>\n",
       "</div>"
      ],
      "text/plain": [
       "MissedBusInstances  No  Yes\n",
       "overall experience         \n",
       "Average              4    5\n",
       "Excellent            3    5\n",
       "Good                 9   21\n",
       "Poor                 0    2"
      ]
     },
     "execution_count": 26,
     "metadata": {},
     "output_type": "execute_result"
    }
   ],
   "source": [
    "pd.crosstab(df['overall experience'], df['MissedBusInstances'])"
   ]
  },
  {
   "cell_type": "markdown",
   "metadata": {},
   "source": [
    "While we see that the respondents who experienced missed buses have a more negative overall experience (poor), it is interesting to see that majority of the respondents who rated their experience as good have experienced missed buses.\n"
   ]
  },
  {
   "cell_type": "code",
   "execution_count": 27,
   "metadata": {},
   "outputs": [
    {
     "data": {
      "image/png": "[encoded data removed]",
      "text/plain": [
       "<Figure size 640x480 with 1 Axes>"
      ]
     },
     "metadata": {},
     "output_type": "display_data"
    }
   ],
   "source": [
    "# cleanliness and maintenance of buses\n",
    "df['cleanliness_maintenance_of_buses'].value_counts().plot(kind='bar',edgecolor='black')\n",
    "plt.xticks(rotation=0)\n",
    "plt.title('Cleanliness and Maintenance of Buses')\n",
    "plt.xlabel('')\n",
    "plt.show()"
   ]
  },
  {
   "cell_type": "markdown",
   "metadata": {},
   "source": [
    "Most of the respondents rated the cleanliness and maintenance of buses as JUST good.\n"
   ]
  },
  {
   "cell_type": "code",
   "execution_count": 28,
   "metadata": {},
   "outputs": [
    {
     "data": {
      "image/png": "[encoded data removed]",
      "text/plain": [
       "<Figure size 640x480 with 1 Axes>"
      ]
     },
     "metadata": {},
     "output_type": "display_data"
    }
   ],
   "source": [
    "# value for money perception\n",
    "df['value for money'].value_counts().plot(kind='bar',edgecolor='black')\n",
    "plt.xticks(rotation=0)\n",
    "plt.title('Value for Money Perception')\n",
    "plt.xlabel('')\n",
    "plt.show()"
   ]
  },
  {
   "cell_type": "markdown",
   "metadata": {},
   "source": [
    "Most of the respondents state that the bus service is good value for money. However, a number of respondents do not feel this way.\n"
   ]
  },
  {
   "cell_type": "code",
   "execution_count": 29,
   "metadata": {},
   "outputs": [
    {
     "data": {
      "text/html": [
       "<div>\n",
       "<style scoped>\n",
       "    .dataframe tbody tr th:only-of-type {\n",
       "        vertical-align: middle;\n",
       "    }\n",
       "\n",
       "    .dataframe tbody tr th {\n",
       "        vertical-align: top;\n",
       "    }\n",
       "\n",
       "    .dataframe thead th {\n",
       "        text-align: right;\n",
       "    }\n",
       "</style>\n",
       "<table border=\"1\" class=\"dataframe\">\n",
       "  <thead>\n",
       "    <tr style=\"text-align: right;\">\n",
       "      <th></th>\n",
       "      <th>overall experience</th>\n",
       "      <th>MissedBusInstances</th>\n",
       "      <th>cleanliness_maintenance_of_buses</th>\n",
       "      <th>BusTimelinessPerception</th>\n",
       "      <th>frequent bus taken</th>\n",
       "    </tr>\n",
       "  </thead>\n",
       "  <tbody>\n",
       "    <tr>\n",
       "      <th>5</th>\n",
       "      <td>Average</td>\n",
       "      <td>No</td>\n",
       "      <td>Average</td>\n",
       "      <td>Sometimes</td>\n",
       "      <td>115</td>\n",
       "    </tr>\n",
       "    <tr>\n",
       "      <th>9</th>\n",
       "      <td>Average</td>\n",
       "      <td>Yes</td>\n",
       "      <td>Good</td>\n",
       "      <td>Often</td>\n",
       "      <td>Parent</td>\n",
       "    </tr>\n",
       "    <tr>\n",
       "      <th>13</th>\n",
       "      <td>Average</td>\n",
       "      <td>No</td>\n",
       "      <td>Average</td>\n",
       "      <td>Sometimes</td>\n",
       "      <td>Bus number 6</td>\n",
       "    </tr>\n",
       "    <tr>\n",
       "      <th>22</th>\n",
       "      <td>Average</td>\n",
       "      <td>Yes</td>\n",
       "      <td>Good</td>\n",
       "      <td>Rarely</td>\n",
       "      <td>NaN</td>\n",
       "    </tr>\n",
       "    <tr>\n",
       "      <th>23</th>\n",
       "      <td>Good</td>\n",
       "      <td>Yes</td>\n",
       "      <td>Good</td>\n",
       "      <td>Often</td>\n",
       "      <td>14</td>\n",
       "    </tr>\n",
       "    <tr>\n",
       "      <th>32</th>\n",
       "      <td>Good</td>\n",
       "      <td>Yes</td>\n",
       "      <td>Good</td>\n",
       "      <td>Always</td>\n",
       "      <td>1c</td>\n",
       "    </tr>\n",
       "    <tr>\n",
       "      <th>39</th>\n",
       "      <td>Poor</td>\n",
       "      <td>Yes</td>\n",
       "      <td>Average</td>\n",
       "      <td>Rarely</td>\n",
       "      <td>3</td>\n",
       "    </tr>\n",
       "    <tr>\n",
       "      <th>40</th>\n",
       "      <td>Poor</td>\n",
       "      <td>Yes</td>\n",
       "      <td>Average</td>\n",
       "      <td>Rarely</td>\n",
       "      <td>4</td>\n",
       "    </tr>\n",
       "    <tr>\n",
       "      <th>43</th>\n",
       "      <td>Average</td>\n",
       "      <td>Yes</td>\n",
       "      <td>Good</td>\n",
       "      <td>Often</td>\n",
       "      <td>115</td>\n",
       "    </tr>\n",
       "    <tr>\n",
       "      <th>46</th>\n",
       "      <td>Average</td>\n",
       "      <td>No</td>\n",
       "      <td>Average</td>\n",
       "      <td>Often</td>\n",
       "      <td>115</td>\n",
       "    </tr>\n",
       "    <tr>\n",
       "      <th>51</th>\n",
       "      <td>Excellent</td>\n",
       "      <td>No</td>\n",
       "      <td>Good</td>\n",
       "      <td>Often</td>\n",
       "      <td>1C</td>\n",
       "    </tr>\n",
       "  </tbody>\n",
       "</table>\n",
       "</div>"
      ],
      "text/plain": [
       "   overall experience MissedBusInstances cleanliness_maintenance_of_buses  \\\n",
       "5             Average                 No                          Average   \n",
       "9             Average                Yes                             Good   \n",
       "13            Average                 No                          Average   \n",
       "22            Average                Yes                             Good   \n",
       "23               Good                Yes                             Good   \n",
       "32               Good                Yes                             Good   \n",
       "39               Poor                Yes                          Average   \n",
       "40               Poor                Yes                          Average   \n",
       "43            Average                Yes                             Good   \n",
       "46            Average                 No                          Average   \n",
       "51          Excellent                 No                             Good   \n",
       "\n",
       "   BusTimelinessPerception frequent bus taken  \n",
       "5                Sometimes                115  \n",
       "9                    Often             Parent  \n",
       "13               Sometimes       Bus number 6  \n",
       "22                  Rarely                NaN  \n",
       "23                   Often                 14  \n",
       "32                  Always                 1c  \n",
       "39                  Rarely                  3  \n",
       "40                  Rarely                  4  \n",
       "43                   Often                115  \n",
       "46                   Often                115  \n",
       "51                   Often                 1C  "
      ]
     },
     "execution_count": 29,
     "metadata": {},
     "output_type": "execute_result"
    }
   ],
   "source": [
    "not_good_Value_for_money = df[df['value for money'] == 'No']\n",
    "not_good_Value_for_money[['overall experience','MissedBusInstances', 'cleanliness_maintenance_of_buses', 'BusTimelinessPerception', 'frequent bus taken']]\n"
   ]
  },
  {
   "cell_type": "markdown",
   "metadata": {},
   "source": [
    "Further analysis needs to be done on the respondents who rated the value for money as no. This might prove helpful especially in the context of the coming fare increase. \n"
   ]
  }
 ],
 "metadata": {
  "kernelspec": {
   "display_name": "Python 3",
   "language": "python",
   "name": "python3"
  },
  "language_info": {
   "codemirror_mode": {
    "name": "ipython",
    "version": 3
   },
   "file_extension": ".py",
   "mimetype": "text/x-python",
   "name": "python",
   "nbconvert_exporter": "python",
   "pygments_lexer": "ipython3",
   "version": "3.12.5"
  }
 },
 "nbformat": 4,
 "nbformat_minor": 2
}
